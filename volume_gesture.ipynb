{
 "cells": [
  {
   "cell_type": "code",
   "execution_count": 3,
   "id": "5bb9ee07-b902-459e-ba95-a4efaf1d8227",
   "metadata": {},
   "outputs": [
    {
     "name": "stdout",
     "output_type": "stream",
     "text": [
      "[INFO] loading images...\n"
     ]
    }
   ],
   "source": [
    "# import the necessary packages\n",
    "from tensorflow.keras.preprocessing.image import ImageDataGenerator\n",
    "from tensorflow.keras.applications import MobileNetV2\n",
    "from tensorflow.keras.layers import AveragePooling2D\n",
    "from tensorflow.keras.layers import Dropout\n",
    "from tensorflow.keras.layers import Flatten\n",
    "from tensorflow.keras.layers import Dense\n",
    "from tensorflow.keras.layers import Input\n",
    "from tensorflow.keras.models import Model\n",
    "from tensorflow.keras.optimizers import Adam\n",
    "from tensorflow.keras.applications.mobilenet_v2 import preprocess_input\n",
    "from tensorflow.keras.preprocessing.image import img_to_array\n",
    "from tensorflow.keras.preprocessing.image import load_img\n",
    "from tensorflow.keras.utils import to_categorical\n",
    "from sklearn.preprocessing import LabelBinarizer\n",
    "from sklearn.model_selection import train_test_split\n",
    "from sklearn.metrics import classification_report\n",
    "from imutils import paths\n",
    "import matplotlib.pyplot as plt\n",
    "import numpy as np\n",
    "import os\n",
    "\n",
    "INIT_LR = 1e-4\n",
    "EPOCHS = 10\n",
    "BS = 12\n",
    "\n",
    "DIRECTORY = r\"C:\\MY\\Miniconda_py\\Volume Gesture\\imginput\"\n",
    "CATEGORIES = [\"up\", \"down\"]\n",
    "\n",
    "# grab the list of images in our dataset directory, then initialize\n",
    "# the list of data (i.e., images) and class images\n",
    "print(\"[INFO] loading images...\")\n"
   ]
  },
  {
   "cell_type": "code",
   "execution_count": 4,
   "id": "1c9e7cea-a247-4bf2-bfdd-f17761e8a445",
   "metadata": {},
   "outputs": [],
   "source": [
    "\n",
    "data = []\n",
    "labels = []\n",
    "\n",
    "for category in CATEGORIES:\n",
    "    path = os.path.join(DIRECTORY, category)\n",
    "    for img in os.listdir(path):\n",
    "    \timg_path = os.path.join(path, img)\n",
    "    \timage = load_img(img_path, target_size=(224, 224))\n",
    "    \timage = img_to_array(image)\n",
    "    \timage = preprocess_input(image)\n",
    "\n",
    "    \tdata.append(image)\n",
    "    \tlabels.append(category)\n",
    "\n",
    "# perform one-hot encoding on the labels\n",
    "lb = LabelBinarizer()\n",
    "labels = lb.fit_transform(labels)\n",
    "labels = to_categorical(labels)\n",
    "\n",
    "data = np.array(data, dtype=\"float32\")\n",
    "labels = np.array(labels)"
   ]
  },
  {
   "cell_type": "code",
   "execution_count": 5,
   "id": "98e4dda2-21d8-424b-a70a-b000c4689f2f",
   "metadata": {},
   "outputs": [],
   "source": [
    "(trainX, testX, trainY, testY) = train_test_split(data, labels,\n",
    "\ttest_size=0.20, stratify=labels, random_state=42)\n",
    "\n",
    "# construct the training image generator for data augmentation\n",
    "aug = ImageDataGenerator(\n",
    "\trotation_range=20,\n",
    "\tzoom_range=0.15,\n",
    "\twidth_shift_range=0.2,\n",
    "\theight_shift_range=0.2,\n",
    "\tshear_range=0.15,\n",
    "\thorizontal_flip=True,\n",
    "\tfill_mode=\"nearest\")\n"
   ]
  },
  {
   "cell_type": "code",
   "execution_count": 6,
   "id": "bfa310b2-4c92-4b86-a8d6-9f80c89702df",
   "metadata": {},
   "outputs": [
    {
     "name": "stdout",
     "output_type": "stream",
     "text": [
      "WARNING:tensorflow:`input_shape` is undefined or non-square, or `rows` is not in [96, 128, 160, 192, 224]. Weights for input shape (224, 224) will be loaded as the default.\n"
     ]
    }
   ],
   "source": [
    "baseModel = MobileNetV2(weights=\"imagenet\", include_top=False,\n",
    "\tinput_tensor=Input(shape=(224, 224, 3)))\n",
    "\n",
    "# construct the head of the model that will be placed on top of the\n",
    "# the base model\n",
    "headModel = baseModel.output\n",
    "headModel = AveragePooling2D(pool_size=(7, 7))(headModel)\n",
    "headModel = Flatten(name=\"flatten\")(headModel)\n",
    "headModel = Dense(128, activation=\"relu\")(headModel)\n",
    "headModel = Dropout(0.5)(headModel)\n",
    "headModel = Dense(2, activation=\"softmax\")(headModel)\n",
    "\n",
    "# place the head FC model on top of the base model (this will become\n",
    "# the actual model we will train)\n",
    "model = Model(inputs=baseModel.input, outputs=headModel)\n",
    "\n",
    "# loop over all layers in the base model and freeze them so they will\n",
    "# *not* be updated during the first training process\n",
    "\n"
   ]
  },
  {
   "cell_type": "code",
   "execution_count": 7,
   "id": "ef78f995-8fdc-42db-9abb-7a38d1c30425",
   "metadata": {},
   "outputs": [],
   "source": [
    "for layer in baseModel.layers:\n",
    "\tlayer.trainable = False"
   ]
  },
  {
   "cell_type": "code",
   "execution_count": 8,
   "id": "e37aafc0-f788-4c54-9cbe-5805faa06930",
   "metadata": {},
   "outputs": [
    {
     "name": "stdout",
     "output_type": "stream",
     "text": [
      "[INFO] compiling model...\n",
      "[INFO] training head...\n"
     ]
    },
    {
     "name": "stderr",
     "output_type": "stream",
     "text": [
      "C:\\Users\\Admin\\miniconda3\\envs\\sr28\\lib\\site-packages\\keras\\optimizers\\optimizer_v2\\adam.py:114: UserWarning: The `lr` argument is deprecated, use `learning_rate` instead.\n",
      "  super().__init__(name, **kwargs)\n"
     ]
    },
    {
     "name": "stdout",
     "output_type": "stream",
     "text": [
      "Epoch 1/10\n",
      "24/24 [==============================] - 16s 237ms/step - loss: 0.7732 - accuracy: 0.5923 - val_loss: 0.6161 - val_accuracy: 0.7067\n",
      "Epoch 2/10\n",
      "24/24 [==============================] - 2s 100ms/step - loss: 0.6058 - accuracy: 0.7317 - val_loss: 0.4956 - val_accuracy: 0.8133\n",
      "Epoch 3/10\n",
      "24/24 [==============================] - 2s 92ms/step - loss: 0.5071 - accuracy: 0.8014 - val_loss: 0.4107 - val_accuracy: 0.8533\n",
      "Epoch 4/10\n",
      "24/24 [==============================] - 2s 92ms/step - loss: 0.4483 - accuracy: 0.8328 - val_loss: 0.3513 - val_accuracy: 0.8800\n",
      "Epoch 5/10\n",
      "24/24 [==============================] - 2s 92ms/step - loss: 0.3606 - accuracy: 0.9094 - val_loss: 0.3054 - val_accuracy: 0.8933\n",
      "Epoch 6/10\n",
      "24/24 [==============================] - 2s 91ms/step - loss: 0.3589 - accuracy: 0.8676 - val_loss: 0.2741 - val_accuracy: 0.9200\n",
      "Epoch 7/10\n",
      "24/24 [==============================] - 2s 92ms/step - loss: 0.3022 - accuracy: 0.9094 - val_loss: 0.2534 - val_accuracy: 0.9200\n",
      "Epoch 8/10\n",
      "24/24 [==============================] - 2s 90ms/step - loss: 0.2617 - accuracy: 0.9408 - val_loss: 0.2237 - val_accuracy: 0.9600\n",
      "Epoch 9/10\n",
      "24/24 [==============================] - 2s 93ms/step - loss: 0.2512 - accuracy: 0.9408 - val_loss: 0.2035 - val_accuracy: 0.9733\n",
      "Epoch 10/10\n",
      "24/24 [==============================] - 2s 92ms/step - loss: 0.2240 - accuracy: 0.9443 - val_loss: 0.1895 - val_accuracy: 0.9733\n"
     ]
    }
   ],
   "source": [
    "# compile our model\n",
    "print(\"[INFO] compiling model...\")\n",
    "opt = Adam(lr=INIT_LR, decay=INIT_LR / EPOCHS)\n",
    "model.compile(loss=\"binary_crossentropy\", optimizer=opt,\n",
    "\tmetrics=[\"accuracy\"])\n",
    "\n",
    "# train the head of the network\n",
    "print(\"[INFO] training head...\")\n",
    "H = model.fit(\n",
    "\taug.flow(trainX, trainY, batch_size=BS),\n",
    "\tsteps_per_epoch=len(trainX) // BS,\n",
    "\tvalidation_data=(testX, testY),\n",
    "\tvalidation_steps=len(testX) // BS,\n",
    "\tepochs=EPOCHS)\n",
    "\n",
    "    "
   ]
  },
  {
   "cell_type": "code",
   "execution_count": 9,
   "id": "3aecd5dd-2021-404b-8a7b-dfb6d6cf19c9",
   "metadata": {},
   "outputs": [
    {
     "name": "stdout",
     "output_type": "stream",
     "text": [
      "[INFO] evaluating network...\n",
      "7/7 [==============================] - 1s 23ms/step\n",
      "              precision    recall  f1-score   support\n",
      "\n",
      "        down       0.95      1.00      0.98        40\n",
      "          up       1.00      0.94      0.97        35\n",
      "\n",
      "    accuracy                           0.97        75\n",
      "   macro avg       0.98      0.97      0.97        75\n",
      "weighted avg       0.97      0.97      0.97        75\n",
      "\n"
     ]
    }
   ],
   "source": [
    "\n",
    "# make predictions on the testing set\n",
    "print(\"[INFO] evaluating network...\")\n",
    "predIdxs = model.predict(testX, batch_size=BS)\n",
    "\n",
    "# for each image in the testing set we need to find the index of the\n",
    "# label with corresponding largest predicted probability\n",
    "predIdxs = np.argmax(predIdxs, axis=1)\n",
    "\n",
    "# show a nicely formatted classification report\n",
    "print(classification_report(testY.argmax(axis=1), predIdxs,\n",
    "\ttarget_names=lb.classes_))"
   ]
  },
  {
   "cell_type": "code",
   "execution_count": 10,
   "id": "bab3a9b6-0384-4446-b8c5-d226f04a01be",
   "metadata": {},
   "outputs": [
    {
     "data": {
      "image/png": "[encoded data removed]",
      "text/plain": [
       "<Figure size 640x480 with 1 Axes>"
      ]
     },
     "metadata": {},
     "output_type": "display_data"
    }
   ],
   "source": [
    "\n",
    "# plot the training loss and accuracy\n",
    "N = EPOCHS\n",
    "plt.style.use(\"ggplot\")\n",
    "plt.figure()\n",
    "plt.plot(np.arange(0, N), H.history[\"loss\"], label=\"train_loss\")\n",
    "plt.plot(np.arange(0, N), H.history[\"val_loss\"], label=\"val_loss\")\n",
    "plt.plot(np.arange(0, N), H.history[\"accuracy\"], label=\"train_acc\")\n",
    "plt.plot(np.arange(0, N), H.history[\"val_accuracy\"], label=\"val_acc\")\n",
    "plt.title(\"Training Loss and Accuracy\")\n",
    "plt.xlabel(\"Epoch #\")\n",
    "plt.ylabel(\"Loss/Accuracy\")\n",
    "plt.legend(loc=\"lower left\")\n",
    "plt.savefig(\"plot.png\")"
   ]
  },
  {
   "cell_type": "code",
   "execution_count": 11,
   "id": "d3b72ec7-1727-42d5-82fa-c5ea31a51063",
   "metadata": {},
   "outputs": [],
   "source": [
    "import keyboard\n",
    "from ctypes import cast, POINTER\n",
    "from comtypes import CLSCTX_ALL\n",
    "from pycaw.pycaw import AudioUtilities, IAudioEndpointVolume\n",
    "\n",
    "def press_key_based_on_output(output):\n",
    "    devices = AudioUtilities.GetSpeakers()\n",
    "    interface = devices.Activate(IAudioEndpointVolume._iid_, CLSCTX_ALL, None)\n",
    "    volume = cast(interface, POINTER(IAudioEndpointVolume))\n",
    "\n",
    "    if output == 0:\n",
    "        curr = volume.GetMasterVolumeLevel()\n",
    "        print(curr)\n",
    "        volume.SetMasterVolumeLevel(curr - 1.0, None)\n",
    "\n",
    "    else : \n",
    "        curr = volume.GetMasterVolumeLevel()\n",
    "        print(curr)\n",
    "        volume.VolumeStepUp(None)\n",
    "        print(volume.GetMasterVolumeLevel())\n",
    "\n"
   ]
  },
  {
   "cell_type": "code",
   "execution_count": 13,
   "id": "4f135ea9-af00-411e-ad4e-ca240f6f4bb0",
   "metadata": {},
   "outputs": [
    {
     "name": "stdout",
     "output_type": "stream",
     "text": [
      "1/1 [==============================] - 0s 80ms/step\n",
      "-18.236774444580078\n",
      "-17.261470794677734\n",
      "Predicted class: [1]\n"
     ]
    }
   ],
   "source": [
    "import cv2\n",
    "import numpy as np\n",
    "\n",
    "def detect_sign(img, model):\n",
    "    # Preprocess the image: resize and normalize pixel values\n",
    "    img = cv2.resize(img, (224, 224))  # Resize the image to the target size (224x224)\n",
    "    img = img.astype(\"float32\") / 255.0  # Normalize pixel values to range [0, 1]\n",
    "    img = np.expand_dims(img, axis=0)  # Add batch dimension\n",
    "\n",
    "    # Predict face mask\n",
    "    y_pred_prob = model.predict(img)\n",
    "    y_pred_class = np.argmax(y_pred_prob, axis=1)\n",
    "\n",
    "    \n",
    "    # Example usage:\n",
    "    output = y_pred_class  # or 1\n",
    "    press_key_based_on_output(output)\n",
    "    return y_pred_class\n",
    "\n",
    "# Load the image\n",
    "img1 = cv2.imread(r\"C:\\MY\\Miniconda_py\\Volume Gesture\\images\\up\\Screenshot 2024-05-30 135006 - Copy.png\")\n",
    "\n",
    "# Assuming 'model' is your trained model\n",
    "prediction = detect_sign(img1, model)\n",
    "print(\"Predicted class:\", prediction)\n"
   ]
  },
  {
   "cell_type": "code",
   "execution_count": 17,
   "id": "21d2dab4-83e8-4ea9-aace-6be4b9dfa958",
   "metadata": {},
   "outputs": [
    {
     "name": "stdout",
     "output_type": "stream",
     "text": [
      "1/1 [==============================] - 0s 41ms/step\n",
      "-10.508596420288086\n",
      "-9.914539337158203\n",
      "[1]\n",
      "1/1 [==============================] - 0s 41ms/step\n",
      "-9.914539337158203\n",
      "-9.342827796936035\n",
      "[1]\n",
      "1/1 [==============================] - 0s 32ms/step\n",
      "-9.342827796936035\n",
      "-8.791844367980957\n",
      "[1]\n",
      "1/1 [==============================] - 0s 36ms/step\n",
      "-8.791844367980957\n",
      "[0]\n",
      "1/1 [==============================] - 0s 41ms/step\n",
      "-9.791844367980957\n",
      "[0]\n",
      "1/1 [==============================] - 0s 33ms/step\n",
      "-10.791844367980957\n",
      "-9.914539337158203\n",
      "[1]\n",
      "1/1 [==============================] - 0s 32ms/step\n",
      "-9.914539337158203\n",
      "-9.342827796936035\n",
      "[1]\n",
      "1/1 [==============================] - 0s 41ms/step\n",
      "-9.342827796936035\n",
      "-8.791844367980957\n",
      "[1]\n",
      "1/1 [==============================] - 0s 41ms/step\n",
      "-8.791844367980957\n",
      "-8.260135650634766\n",
      "[1]\n",
      "1/1 [==============================] - 0s 39ms/step\n",
      "-8.260135650634766\n",
      "-7.746397495269775\n",
      "[1]\n",
      "1/1 [==============================] - 0s 40ms/step\n",
      "-7.746397495269775\n",
      "[0]\n",
      "1/1 [==============================] - 0s 40ms/step\n",
      "-8.746397018432617\n",
      "[0]\n",
      "1/1 [==============================] - 0s 32ms/step\n",
      "-9.746397018432617\n",
      "[0]\n",
      "1/1 [==============================] - 0s 40ms/step\n",
      "-10.746397018432617\n",
      "[0]\n",
      "1/1 [==============================] - 0s 49ms/step\n",
      "-11.746397018432617\n",
      "[0]\n",
      "1/1 [==============================] - 0s 41ms/step\n",
      "-12.746397018432617\n",
      "[0]\n",
      "1/1 [==============================] - 0s 32ms/step\n",
      "-13.746397018432617\n",
      "[0]\n",
      "1/1 [==============================] - 0s 33ms/step\n",
      "-14.746397018432617\n",
      "-13.886737823486328\n",
      "[1]\n",
      "1/1 [==============================] - 0s 41ms/step\n",
      "-13.886737823486328\n",
      "-13.148375511169434\n",
      "[1]\n",
      "1/1 [==============================] - 0s 40ms/step\n",
      "-13.148375511169434\n",
      "-12.444223403930664\n",
      "[1]\n",
      "1/1 [==============================] - 0s 32ms/step\n",
      "-12.444223403930664\n",
      "-11.771252632141113\n",
      "[1]\n"
     ]
    },
    {
     "ename": "KeyboardInterrupt",
     "evalue": "",
     "output_type": "error",
     "traceback": [
      "\u001b[1;31m---------------------------------------------------------------------------\u001b[0m",
      "\u001b[1;31mKeyboardInterrupt\u001b[0m                         Traceback (most recent call last)",
      "Cell \u001b[1;32mIn[17], line 16\u001b[0m\n\u001b[0;32m     14\u001b[0m last_capture_time \u001b[38;5;241m=\u001b[39m time\u001b[38;5;241m.\u001b[39mtime()\n\u001b[0;32m     15\u001b[0m \u001b[38;5;28;01mwhile\u001b[39;00m \u001b[38;5;28;01mTrue\u001b[39;00m:\n\u001b[1;32m---> 16\u001b[0m     ret, frame \u001b[38;5;241m=\u001b[39m \u001b[43mcap\u001b[49m\u001b[38;5;241;43m.\u001b[39;49m\u001b[43mread\u001b[49m\u001b[43m(\u001b[49m\u001b[43m)\u001b[49m\n\u001b[0;32m     17\u001b[0m     \u001b[38;5;28;01mif\u001b[39;00m \u001b[38;5;129;01mnot\u001b[39;00m ret:\n\u001b[0;32m     18\u001b[0m         \u001b[38;5;28;01mbreak\u001b[39;00m\n",
      "\u001b[1;31mKeyboardInterrupt\u001b[0m: "
     ]
    }
   ],
   "source": [
    "import cv2\n",
    "import numpy as np\n",
    "import time\n",
    "\n",
    "# Define your face mask detection function\n",
    "\n",
    "# Open the video capture\n",
    "cap = cv2.VideoCapture(0)\n",
    "\n",
    "# Check if the video capture is opened successfully\n",
    "if not cap.isOpened():\n",
    "    print(\"Error: Could not open video capture.\")\n",
    "else:\n",
    "    last_capture_time = time.time()\n",
    "    while True:\n",
    "        ret, frame = cap.read()\n",
    "        if not ret:\n",
    "            break\n",
    "\n",
    "        # Check if two seconds have passed since the last capture\n",
    "        if time.time() - last_capture_time >= 2:\n",
    "            # Resize the frame\n",
    "            resized_frame = cv2.resize(frame, (224, 224))\n",
    "\n",
    "            # Perform face mask detection\n",
    "            y_pred = detect_sign(resized_frame, model)\n",
    "\n",
    "            print(y_pred)\n",
    "\n",
    "            last_capture_time = time.time()  # Update the last capture time\n",
    "\n",
    "        # Display the frame using cv2.imshow\n",
    "        cv2.imshow(\"window\", frame)\n",
    "\n",
    "        # Handle key press to exit\n",
    "        if cv2.waitKey(1) & 0xFF == ord('x'):\n",
    "            break\n",
    "\n",
    "    # Release the video capture and close windows\n",
    "    cap.release()\n",
    "    cv2.destroyAllWindows()\n"
   ]
  }
 ],
 "metadata": {
  "kernelspec": {
   "display_name": "Python 3.9 (sr28)",
   "language": "python",
   "name": "sr28"
  },
  "language_info": {
   "codemirror_mode": {
    "name": "ipython",
    "version": 3
   },
   "file_extension": ".py",
   "mimetype": "text/x-python",
   "name": "python",
   "nbconvert_exporter": "python",
   "pygments_lexer": "ipython3",
   "version": "3.10.14"
  }
 },
 "nbformat": 4,
 "nbformat_minor": 5
}
